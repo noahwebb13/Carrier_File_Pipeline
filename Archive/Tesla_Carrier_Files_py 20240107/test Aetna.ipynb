{
 "cells": [
  {
   "attachments": {},
   "cell_type": "markdown",
   "metadata": {},
   "source": [
    "<!-- Batching files -->"
   ]
  },
  {
   "attachments": {},
   "cell_type": "markdown",
   "metadata": {},
   "source": [
    "# Batching carrier files"
   ]
  },
  {
   "cell_type": "code",
   "execution_count": 1,
   "metadata": {},
   "outputs": [
    {
     "name": "stdout",
     "output_type": "stream",
     "text": [
      "\n",
      "\n",
      "Listing files from directory [N:/OPTClaimsConversion/Incoming/OHFSIncoming/OHFSArchive/Tesla] ...\n",
      "reading file [MedClaimsEXP_Aetna_Tesla_20231113.txt]...\n",
      "reading file [MedClaimsEXP_Aetna_Tesla_20231106.txt]...\n",
      "reading file [MedClaimsEXP_Aetna_Tesla_20231030.txt]...\n",
      "reading file [MedClaimsEXP_Aetna_Tesla_20231023.txt]...\n",
      "reading file [MedClaimsEXP_Aetna_Tesla_20231016.txt]...\n",
      "reading file [MedClaimsEXP_Aetna_Tesla_20231009.txt]...\n",
      "reading file [MedClaimsEXP_Aetna_Tesla_20231002.txt]...\n",
      "reading file [MedClaimsEXP_Aetna_Tesla_20230925.txt]...\n",
      "reading file [MedClaimsEXP_Aetna_Tesla_20230918.txt]...\n",
      "reading file [MedClaimsEXP_Aetna_Tesla_20230911.txt]...\n",
      "reading file [MedClaimsEXP_Aetna_Tesla_20230904.txt]...\n",
      "reading file [MedClaimsEXP_Aetna_Tesla_20230828.txt]...\n",
      "reading file [MedClaimsEXP_Aetna_Tesla_20230821.txt]...\n",
      "reading file [MedClaimsEXP_Aetna_Tesla_20230814.txt]...\n",
      "reading file [MedClaimsEXP_Aetna_Tesla_20230807.txt]...\n",
      "reading file [MedClaimsEXP_Aetna_Tesla_20230731.txt]...\n",
      "reading file [MedClaimsEXP_Aetna_Tesla_20230724.txt]...\n",
      "reading file [MedClaimsEXP_Aetna_Tesla_20230717.txt]...\n",
      "reading file [MedClaimsEXP_Aetna_Tesla_20230710.txt]...\n",
      "reading file [MedClaimsEXP_Aetna_Tesla_20230705.txt]...\n",
      "reading file [MedClaimsEXP_Aetna_Tesla_20230703.txt]...\n",
      "reading file [MedClaimsEXP_Aetna_Tesla_20230626.txt]...\n",
      "reading file [MedClaimsEXP_Aetna_Tesla_20230619.txt]...\n",
      "reading file [MedClaimsEXP_Aetna_Tesla_20230612.txt]...\n",
      "reading file [MedClaimsEXP_Aetna_Tesla_20230605.txt]...\n",
      "reading file [MedClaimsEXP_Aetna_Tesla_20230529.txt]...\n",
      "reading file [MedClaimsEXP_Aetna_Tesla_20230522.txt]...\n",
      "reading file [MedClaimsEXP_Aetna_Tesla_20230515.txt]...\n",
      "reading file [MedClaimsEXP_Aetna_Tesla_20230508.txt]...\n",
      "reading file [MedClaimsEXP_Aetna_Tesla_20230501.txt]...\n",
      "reading file [MedClaimsEXP_Aetna_Tesla_20230424.txt]...\n",
      "reading file [MedClaimsEXP_Aetna_Tesla_20230417.txt]...\n",
      "reading file [MedClaimsEXP_Aetna_Tesla_20230410.txt]...\n",
      "reading file [MedClaimsEXP_Aetna_Tesla_20230403.txt]...\n",
      "reading file [MedClaimsEXP_Aetna_Tesla_20230327.txt]...\n",
      "reading file [MedClaimsEXP_Aetna_Tesla_20230320.txt]...\n",
      "reading file [MedClaimsEXP_Aetna_Tesla_20230313.txt]...\n",
      "reading file [MedClaimsEXP_Aetna_Tesla_20230306.txt]...\n",
      "reading file [MedClaimsEXP_Aetna_Tesla_20230227.txt]...\n",
      "reading file [MedClaimsEXP_Aetna_Tesla_20230220.txt]...\n",
      "reading file [MedClaimsEXP_Aetna_Tesla_20230213.txt]...\n",
      "reading file [MedClaimsEXP_Aetna_Tesla_20230206.txt]...\n",
      "reading file [MedClaimsEXP_Aetna_Tesla_20230130.txt]...\n",
      "reading file [MedClaimsEXP_Aetna_Tesla_20230123.txt]...\n",
      "reading file [MedClaimsEXP_Aetna_Tesla_20230116.txt]...\n",
      "reading file [MedClaimsEXP_Aetna_Tesla_20230109_.txt]...\n",
      "reading file [MedClaimsEXP_Aetna_Tesla_20230102.txt]...\n",
      "\n",
      "files batched!\n"
     ]
    }
   ],
   "source": [
    "from module import *\n",
    "\n",
    "# ---- EDIT THIS LINE ----------\n",
    "# changing working directory to the client folder\n",
    "os.chdir('C:\\\\Users\\\\nwebb19\\\\python\\\\Tesla_Carrier_Files_py')\n",
    "# ------------------------------\n",
    "\n",
    "\n",
    "# open and read config.json file\n",
    "with open('config.json', 'r') as config_file: \n",
    "    config = json.load(config_file)\n",
    "\n",
    "# ---- EDIT THIS LINE ----------\n",
    "carrier = \"Aetna\"\n",
    "# ------------------------------\n",
    "\n",
    "# storing variables from config.json file \n",
    "file_input_path   = config[carrier]['file_input_path']\n",
    "file_name_pattern = config[carrier]['file_name_pattern']\n",
    "date_start_regx   = config[carrier]['date_start_regx']\n",
    "date_length       = config[carrier]['date_length']\n",
    "date_format       = config[carrier]['date_format']\n",
    "output_header      = config['output']['output_header']\n",
    "\n",
    "batch, file_name_pattern, files_start_dt, files_end_dt = concat_carrier(carrier, file_input_path, file_name_pattern, date_start_regx, date_length, date_format)"
   ]
  },
  {
   "attachments": {},
   "cell_type": "markdown",
   "metadata": {},
   "source": [
    "### View a sample of the table"
   ]
  },
  {
   "cell_type": "code",
   "execution_count": 2,
   "metadata": {},
   "outputs": [
    {
     "ename": "NameError",
     "evalue": "name 'file_name_pattern' is not defined",
     "output_type": "error",
     "traceback": [
      "\u001b[1;31m---------------------------------------------------------------------------\u001b[0m",
      "\u001b[1;31mNameError\u001b[0m                                 Traceback (most recent call last)",
      "Cell \u001b[1;32mIn[2], line 1\u001b[0m\n\u001b[1;32m----> 1\u001b[0m \u001b[39mprint\u001b[39m(file_name_pattern)\n\u001b[0;32m      2\u001b[0m \u001b[39mprint\u001b[39m(files_start_dt)\n\u001b[0;32m      3\u001b[0m \u001b[39mprint\u001b[39m(files_end_dt)\n",
      "\u001b[1;31mNameError\u001b[0m: name 'file_name_pattern' is not defined"
     ]
    }
   ],
   "source": [
    "print(file_name_pattern)\n",
    "print(files_start_dt)\n",
    "print(files_end_dt)\n",
    "\n",
    "# selcting the first 100 rows\n",
    "batch100 = batch.head(100)\n",
    "batch100"
   ]
  },
  {
   "attachments": {},
   "cell_type": "markdown",
   "metadata": {},
   "source": [
    "# Mapping the batch file to standard format"
   ]
  },
  {
   "cell_type": "code",
   "execution_count": 1,
   "metadata": {},
   "outputs": [
    {
     "ename": "NameError",
     "evalue": "name 'batch' is not defined",
     "output_type": "error",
     "traceback": [
      "\u001b[1;31m---------------------------------------------------------------------------\u001b[0m",
      "\u001b[1;31mNameError\u001b[0m                                 Traceback (most recent call last)",
      "Cell \u001b[1;32mIn[1], line 14\u001b[0m\n\u001b[0;32m     11\u001b[0m output_header     \u001b[39m=\u001b[39m config[\u001b[39m'\u001b[39m\u001b[39moutput\u001b[39m\u001b[39m'\u001b[39m][\u001b[39m'\u001b[39m\u001b[39moutput_header\u001b[39m\u001b[39m'\u001b[39m]\n\u001b[0;32m     12\u001b[0m employer_code     \u001b[39m=\u001b[39m config[\u001b[39m'\u001b[39m\u001b[39moutput\u001b[39m\u001b[39m'\u001b[39m][\u001b[39m'\u001b[39m\u001b[39memployer_code\u001b[39m\u001b[39m'\u001b[39m]\n\u001b[1;32m---> 14\u001b[0m \u001b[39mmap\u001b[39m \u001b[39m=\u001b[39m map_Tesla_Aetna(batch, output_header, employer_code)\n\u001b[0;32m     15\u001b[0m \u001b[39mmap\u001b[39m\n",
      "\u001b[1;31mNameError\u001b[0m: name 'batch' is not defined"
     ]
    }
   ],
   "source": [
    "from module import *\n",
    "\n",
    "# changing working directory to the client folder\n",
    "os.chdir('C:\\\\Users\\\\nwebb19\\\\python\\\\Tesla_Carrier_Files_py')\n",
    "\n",
    "# open and read config.json file\n",
    "with open('config.json', 'r') as config_file: \n",
    "    config = json.load(config_file)\n",
    "\n",
    "# storing variables from config.json file \n",
    "output_header     = config['output']['output_header']\n",
    "employer_code     = config['output']['employer_code']\n",
    "\n",
    "map = map_Tesla_Aetna(batch, output_header, employer_code)\n",
    "map"
   ]
  },
  {
   "attachments": {},
   "cell_type": "markdown",
   "metadata": {},
   "source": [
    "# Batching, mapping, and writing the file to the output directory (end-to-end process)"
   ]
  },
  {
   "cell_type": "code",
   "execution_count": 1,
   "metadata": {},
   "outputs": [
    {
     "name": "stdout",
     "output_type": "stream",
     "text": [
      "\n",
      "\n",
      "Listing files from directory [N:/OPTClaimsConversion/Incoming/OHFSIncoming/OHFSArchive/Tesla] ...\n",
      "reading file [VSP_FSA_TESLA_30051220_20231111.txt]...\n",
      "reading file [VSP_FSA_TESLA_30051220_20231030.txt]...\n",
      "reading file [VSP_FSA_TESLA_30051220_20231011.txt]...\n",
      "reading file [VSP_FSA_TESLA_30051220_20230928.txt]...\n",
      "reading file [VSP_FSA_TESLA_30051220_20230911.txt]...\n",
      "reading file [VSP_FSA_TESLA_30051220_20230828.txt]...\n",
      "reading file [VSP_FSA_TESLA_30051220_20230811.txt]...\n",
      "reading file [VSP_FSA_TESLA_30051220_20230728.txt]...\n",
      "reading file [VSP_FSA_TESLA_30051220_20230712.txt]...\n",
      "reading file [VSP_FSA_TESLA_30051220_20230628.txt]...\n",
      "reading file [VSP_FSA_TESLA_30051220_20230612.txt]...\n",
      "reading file [VSP_FSA_TESLA_30051220_20230527.txt]...\n",
      "reading file [VSP_FSA_TESLA_30051220_20230512.txt]...\n",
      "reading file [VSP_FSA_TESLA_30051220_20230428.txt]...\n",
      "reading file [VSP_FSA_TESLA_30051220_20230411.txt]...\n",
      "reading file [VSP_FSA_TESLA_30051220_20230328.txt]...\n",
      "reading file [VSP_FSA_TESLA_30051220_20230312.txt]...\n",
      "reading file [VSP_FSA_TESLA_30051220_20230228.txt]...\n",
      "reading file [VSP_FSA_TESLA_30051220_20230212.txt]...\n",
      "reading file [VSP_FSA_TESLA_30051220_20230130.txt]...\n",
      "reading file [VSP_FSA_TESLA_30051220_20230112.txt]...\n",
      "\n",
      "files batched!\n",
      "\n",
      "\n",
      "mapping file to standard format...\n",
      "\n",
      "\n",
      "The output path does not exist, creating the directory...\n",
      " N:/OPTClaimsConversion/Incoming/OHFSIncoming/OHFSArchive/Tesla/carrier_combined/mapped\n",
      "\n",
      "\n",
      "writing file [VSP_mapped_2023-01-12_to_2023-11-11.csv] to directory: \n",
      "[N:/OPTClaimsConversion/Incoming/OHFSIncoming/OHFSArchive/Tesla/carrier_combined/mapped]...\n",
      "\n",
      "\n",
      "Done!\n"
     ]
    }
   ],
   "source": [
    "import os\n",
    "os.chdir('C:\\\\Users\\\\nwebb19\\\\python\\\\Tesla_Carrier_Files_py')\n",
    "\n",
    "from module import concat_and_map\n",
    "\n",
    "map, fname = concat_and_map('VSP')"
   ]
  }
 ],
 "metadata": {
  "kernelspec": {
   "display_name": "Python 3",
   "language": "python",
   "name": "python3"
  },
  "language_info": {
   "codemirror_mode": {
    "name": "ipython",
    "version": 3
   },
   "file_extension": ".py",
   "mimetype": "text/x-python",
   "name": "python",
   "nbconvert_exporter": "python",
   "pygments_lexer": "ipython3",
   "version": "3.11.0"
  },
  "orig_nbformat": 4
 },
 "nbformat": 4,
 "nbformat_minor": 2
}
